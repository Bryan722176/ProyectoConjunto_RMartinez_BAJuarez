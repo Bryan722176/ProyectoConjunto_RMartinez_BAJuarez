{
 "cells": [
  {
   "cell_type": "markdown",
   "metadata": {},
   "source": [
    "<img style=\"float: left; margin: 30px 15px 15px 15px;\" src=\"https://pngimage.net/wp-content/uploads/2018/06/logo-iteso-png-5.png\" width=\"300\" height=\"500\" /> \n",
    "    \n",
    "    \n",
    "### <font color='navy'> Simulación de procesos financieros. \n",
    "\n",
    "**Nombres:** \n",
    "- Bryan Azahel Juárez Pineda.\n",
    "- Rodrigo Martínez Gallardo Bertoldi\n",
    "\n",
    "**Fecha:** 03 de marzo del 2021.\n",
    "\n",
    "**Expediente** : \n",
    "- 722176.\n",
    "- \n",
    "    \n",
    "**Profesor:** Oscar David Jaramillo Zuluaga.\n",
    "\n",
    "# Tarea 5: Clase 9."
   ]
  },
  {
   "cell_type": "markdown",
   "metadata": {},
   "source": [
    "[Liga al repositorio](https://github.com/Bryan722176/ProyectoConjunto_RMartinez_BAJuarez)"
   ]
  },
  {
   "cell_type": "markdown",
   "metadata": {},
   "source": [
    "### Proyecto Conjunto.\n",
    "> Instrucciones: Cada estudiante debe proponer una solución óptima a los problemas planteados a continuación."
   ]
  },
  {
   "cell_type": "markdown",
   "metadata": {},
   "source": [
    ">### <font color ='red'> **Tarea 5** \n",
    "    \n",
    "> Para las siguiente dos funciones, genere muestres aleatorias que distribuyan según la función dada usando el método de la transformada inversa y grafique el histograma de 1000 muestras generadas con el método de la transformada inversa y compárela con el función $f(x)$ **(recuerde que $f(x)$ es la distribución de probabilidad y $F(x)$ es la distribución de probabilidad acumulada)** [ver este enlace para más información](https://es.wikipedia.org/wiki/Funci%C3%B3n_de_distribuci%C3%B3n). Este procedimiento se realiza con el fín de validar que el procedimiento y los resultados son correctos.\n",
    "    \n",
    "> 1. Generación variable aleatoria continua\n",
    ">El tiempo en el cual un movimiento browniano se mantiene sobre su punto máximo en el intervalo [0,1] tiene una distribución\n",
    ">$$F(x)=\\frac{2}{\\pi}\\sin^{-1}(\\sqrt x),\\quad 0\\leq x\\leq 1$$ </font>\n",
    "\n",
    "> 2. Generación variable aleatoria Discreta\n",
    "> La distribución binomial modela el número de éxitos de n ensayos independientes donde hay una probabilidad p de éxito en cada ensayo.\n",
    "> Generar una variable aletoria binomial con parámetros $n=10$ y $p=0.7$. Recordar que $$X\\sim binomial(n,p) \\longrightarrow p_i=P(X=i)=\\frac{n!}{i!(n-i)!}p^i(1-p)^{n-i},\\quad i=0,1,\\cdots,n$$\n",
    "> Por propiedades de la operación factorial la anterior $p_i$ se puede escribir como:\n",
    "> $$p_{i+1}=\\frac{n-i}{i+1}\\frac{p}{1-p} p_i $$\n",
    "\n",
    "> **Nota:** Por notación recuerde que para el caso continuo $f(x)$ es la distribución de probabilidad (PDF), mientras $F(x)$ corresponde a la distribución de probabilidad acumulada (CDF). Para el caso discreto, $P(X=i)$ corresponde a su distribución de probabilidad (PMF) y $ F_{X}(x)=\\operatorname {P} (X\\leq x)=\\sum _{x_{i}\\leq x}\\operatorname {P} (X=x_{i})=\\sum _{x_{i}\\leq x}p(x_{i})$, corresponde a su distribución de probabilidad acumulada (CDF).\n"
   ]
  },
  {
   "cell_type": "markdown",
   "metadata": {},
   "source": [
    "### _Solución Bryan._"
   ]
  },
  {
   "cell_type": "code",
   "execution_count": 7,
   "metadata": {},
   "outputs": [],
   "source": [
    "# Importamos las librerías a utilizar.\n",
    "import numpy as np\n",
    "import matplotlib.pyplot as plt\n",
    "import pandas as pd"
   ]
  },
  {
   "cell_type": "markdown",
   "metadata": {},
   "source": [
    "#### Solución ejercicio 1."
   ]
  },
  {
   "cell_type": "markdown",
   "metadata": {},
   "source": [
    "Para resolver este inciso lo primero que necesitaremos será encontrar como a partir de nuestra función de distribución de probabilidad acumulada genera variables aleatorias, esto lo lograremos a partir del método de la transformada inversa. Recordemos que nuestra función de distribución de probabilidad acumulada se ve de la siguiente manera:\n",
    "\n",
    "$$F(x)=\\frac{2}{\\pi}\\sin^{-1}(\\sqrt x),\\quad 0\\leq x\\leq 1$$\n",
    "\n",
    "El método de la transformada inversa nos indica los siguientes pasos.\n",
    "1. Igualar $F(x)$ a $U$, donde $U \\sim \\text{Uniforme[0,1]}$\n",
    "> $$\\frac{2}{\\pi}\\sin^{-1}(\\sqrt x) = U$$\n",
    "2. Encontrar la inversa de $F(x)$ de manera que $X = F^{-1}(U)$\n",
    "> $$X = sin^{2}\\big(\\frac{u\\pi}{2}\\big)$$, $$\\text{donde } X \\sim f(x)$$\n",
    "\n",
    "A manera de comprobación, buscaremos encontrar la función de distribución de probabilidad, es decir, $f(x)$. Para encontrar esto, debido a que conocemos $F(x)$ derivaremos, de forma que la operación a efectuar será la siguiente:\n",
    "\n",
    "$$ \\frac{dF(x)}{dx} $$\n",
    "\n",
    "Recordando:\n",
    "> $$\\frac{d}{dv}sin^{-1}(v) = \\frac{v^{'}}{\\sqrt{1-v^{2}}}$$\n",
    "\n",
    "De manera que, la derivada de $F(x)$ será:\n",
    "> $$f(x) = \\frac{1}{\\pi\\sqrt{x-x^{2}}}$$\n",
    "\n",
    "**Ahora, ya conociendo como distribuyen nuestras variables aleatorias y como generar las mismas, podemos visualizar graficamente la validez del proceso y los resultados antes descritos.**"
   ]
  },
  {
   "cell_type": "code",
   "execution_count": 2,
   "metadata": {},
   "outputs": [
    {
     "data": {
      "image/png": "[encoded data removed]",
      "text/plain": [
       "<Figure size 1080x360 with 1 Axes>"
      ]
     },
     "metadata": {
      "needs_background": "light"
     },
     "output_type": "display_data"
    }
   ],
   "source": [
    "# Solución ejercicio 1.\n",
    "# Comenzamos definiendo una función que genere nuestras variables aleatorias.\n",
    "def v_aleatorias(N: 'Number of values to be generated'):\n",
    "    # A partir del método de la transformada inversa, este será la manera en que se generan variables aleatorias.\n",
    "    return np.sin((np.random.random(N) * np.pi) / 2)**2\n",
    "\n",
    "# Generamos nuestras variables aleatorias.\n",
    "N_x = 1000\n",
    "x = v_aleatorias(N_x);\n",
    "\n",
    "# Para poder comprobar la efectividad del generador de variables aleatorias, simularemos la distribución f(x).\n",
    "x2 = np.arange(0.001, 1, 0.001)\n",
    "f_x = 1 / ((np.pi)*(np.sqrt(x2-x2**2)))\n",
    "\n",
    "# Graficamos tanto nuestra distribución como las variables aleatorias generadas.\n",
    "plt.figure(figsize=[15,5])\n",
    "plt.plot(x2,f_x,'k--')\n",
    "plt.hist(x, bins=250, color='#F4D03F', density=True)\n",
    "plt.xlabel('Valores Aleatorios')\n",
    "plt.ylabel('Probabilidad')\n",
    "plt.title('Transformada inversa. Distribución continua')\n",
    "plt.show()"
   ]
  },
  {
   "cell_type": "markdown",
   "metadata": {},
   "source": [
    "Podemos observar en la gráfica anterior, como el comportamiento de nuestras variables aleatorias generadas siguen un comportamiento similar a la función de distribución de probabilidad."
   ]
  },
  {
   "cell_type": "markdown",
   "metadata": {},
   "source": [
    "#### Solución ejercicio 2."
   ]
  },
  {
   "cell_type": "markdown",
   "metadata": {},
   "source": [
    "Para resolver este ejercicio, recordemos que el proceso a realizar será el siguiente:\n",
    "1. Generar un número uniforme $U$ entre (0,1).\n",
    "2. Encontrar $k\\in\\{1,\\cdots,n\\}$ tal que $q_{k-1}<U\\leq q_k$\n",
    "3. Tomar $X=c_k$.\n",
    "\n",
    "Donde $q_k$ representa el valor de la probabilidad acumulada en el k-esimo punto.\n",
    "\n",
    "Recordando que en clase se generó una función tanto para generar variables aleatorias discretas como su respectivo histogrma, a continuación se presentarán."
   ]
  },
  {
   "cell_type": "code",
   "execution_count": 8,
   "metadata": {},
   "outputs": [],
   "source": [
    "# Solución ejercicio 2.\n",
    "# Función para generar variables aleatorias de una distribución discreta.\n",
    "def Gen_distr_discreta(p_acum: 'P.Acumulada de la distribución a generar',\n",
    "                       indices: 'valores reales a generar aleatoriamente',\n",
    "                       N: 'cantidad de números aleatorios a generar'):\n",
    "    \n",
    "    U = np.random.rand(N)\n",
    "    # Diccionario de valores aleatorios\n",
    "    rand2reales = {i: idx for i, idx in enumerate(indices)}\n",
    "\n",
    "    # Series de los valores aletorios\n",
    "    y = pd.Series([sum([1 for p in p_acum if p < ui]) for ui in U]).map(rand2reales)\n",
    "    \n",
    "    return y"
   ]
  },
  {
   "cell_type": "code",
   "execution_count": 9,
   "metadata": {},
   "outputs": [],
   "source": [
    "# Función para graficar histogramas de una distribución discreta.\n",
    "def plot_histogram_discrete(distribucion:'señal de varibles aleatorias de un distribución DISCRETA dada',\n",
    "                            title:'título del histograma',\n",
    "                            label:'label del legend a aparecer en el gráfica',\n",
    "                            densidad:'por defecto regresa el histograma en densidad'=True):\n",
    "    # len(set(distribucion)) cuenta la cantidad de elementos distintos de la variable 'distribucion'\n",
    "    plt.figure(figsize=[15,5])\n",
    "    y, x = np.histogram(distribucion, bins=len(set(distribucion)), density=densidad) \n",
    "    plt.bar(x[1:], y, color='#F4D03F', align='center', label=label)\n",
    "    plt.title(title)\n",
    "    plt.legend()\n",
    "    plt.show()"
   ]
  },
  {
   "cell_type": "code",
   "execution_count": 10,
   "metadata": {},
   "outputs": [],
   "source": [
    "# Definimos una función para calcular la probabilidad acumulada.\n",
    "def probacum_binomial(n, p):\n",
    "    \n",
    "    '''Esta función retorna el valor de la probabilidad acumulada'''\n",
    "    \n",
    "    # Definimos un vector de ceros donde almacenaremos los valores de las probabilidades.\n",
    "    prob = np.zeros(n)\n",
    "    # Inicializamos la primera posición del vector.\n",
    "    prob[0] = (1-p)**n\n",
    "    \n",
    "    # Utilizaremos una función que nos ayude a definir los valores del vector en las posiciones siguientes.\n",
    "    # Recordemos que está definido por la siguiente expresión ((n-i)/(i+1)) * (p/(1-p)) * pi\n",
    "    def probabilidad_i(i):\n",
    "        nonlocal prob\n",
    "        prob[i+1] = ((n-i)/(i+1)) * (p/(1-p)) * prob[i]\n",
    "        \n",
    "    # Llenamos el vector de manera iterativa para los n valores.\n",
    "    [probabilidad_i(i) for i in range(n-1)]\n",
    "    \n",
    "    # Regresamos un vector con las probabilidades acumuladas.\n",
    "    return np.cumsum(prob)"
   ]
  },
  {
   "cell_type": "code",
   "execution_count": 11,
   "metadata": {},
   "outputs": [
    {
     "data": {
      "image/png": "[encoded data removed]",
      "text/plain": [
       "<Figure size 1080x360 with 1 Axes>"
      ]
     },
     "metadata": {
      "needs_background": "light"
     },
     "output_type": "display_data"
    }
   ],
   "source": [
    "# Ya con la probabilidad acumulada definida, ahora generaremos las variables aleatorias correspondientes.\n",
    "# Definimos los parámetros n y p descritos en el problema. También la cantidad de muestras a generar.\n",
    "n = 10\n",
    "p = 0.7\n",
    "N_muestras = 1000\n",
    "indices = np.arange(0,n+1)\n",
    "\n",
    "# Calculamos probabilidad acumulada.\n",
    "prob_acumulada = probacum_binomial(n,p)\n",
    "\n",
    "# Definimos las muestras aleatorias\n",
    "var_binomial = Gen_distr_discreta(prob_acumulada, indices, N_muestras)\n",
    "\n",
    "# Ya con las muestras aleatorias generadas, graficaremos el histograma correspondiente.\n",
    "plot_histogram_discrete(var_binomial, 'Transformada inversa. Distribución discreta', 'Probabilidades asociadas',\n",
    "                        True)"
   ]
  },
  {
   "cell_type": "markdown",
   "metadata": {},
   "source": [
    "A manera de comparación graficaremos la misma situación para una distribución binomial con las paqueterías de python."
   ]
  },
  {
   "cell_type": "code",
   "execution_count": 12,
   "metadata": {},
   "outputs": [
    {
     "data": {
      "image/png": "[encoded data removed]",
      "text/plain": [
       "<Figure size 1080x360 with 1 Axes>"
      ]
     },
     "metadata": {
      "needs_background": "light"
     },
     "output_type": "display_data"
    }
   ],
   "source": [
    "# Definimos los valores para la distribución con python.\n",
    "prob_numpy = np.random.binomial(n,p,N_muestras)\n",
    "\n",
    "# Graficamos las muestras generadas.\n",
    "plot_histogram_discrete(prob_numpy, 'Muestras generadas con numpy', 'Probabilidades asociadas', True)"
   ]
  },
  {
   "cell_type": "markdown",
   "metadata": {},
   "source": [
    "Observamos como ambos histogramas tienen un comportamiento similar, lo cual nos da indicios de que generamos de manera correcta las variables aleatorias con la distribución binomial."
   ]
  },
  {
   "cell_type": "markdown",
   "metadata": {},
   "source": [
    "### _Solución Rodrigo._"
   ]
  },
  {
   "cell_type": "markdown",
   "metadata": {},
   "source": [
    "> 1. Generación variable aleatoria continua\n",
    ">El tiempo en el cual un movimiento browniano se mantiene sobre su punto máximo en el intervalo [0,1] tiene una distribución\n",
    ">$$F(x)=\\frac{2}{\\pi}\\sin^{-1}(\\sqrt x),\\quad 0\\leq x\\leq 1$$ </font>"
   ]
  },
  {
   "cell_type": "markdown",
   "metadata": {},
   "source": [
    "$$X = F^{-1}(x)=\\sin^{2}(\\frac{x\\pi}{2}) = \\sin^{2}(\\frac{u\\pi}{2})$$"
   ]
  },
  {
   "cell_type": "code",
   "execution_count": 1,
   "metadata": {},
   "outputs": [],
   "source": [
    "import numpy as np\n",
    "import matplotlib.pyplot as plt\n",
    "import pandas as pd"
   ]
  },
  {
   "cell_type": "code",
   "execution_count": 2,
   "metadata": {},
   "outputs": [],
   "source": [
    "def p_max(N):\n",
    "    return (np.sin(np.random.random(N)*np.pi/2))**2"
   ]
  },
  {
   "cell_type": "code",
   "execution_count": 3,
   "metadata": {},
   "outputs": [
    {
     "name": "stdout",
     "output_type": "stream",
     "text": [
      "0.4999854371499963\n"
     ]
    },
    {
     "data": {
      "image/png": "[encoded data removed]",
      "text/plain": [
       "<Figure size 432x288 with 1 Axes>"
      ]
     },
     "metadata": {
      "needs_background": "light"
     },
     "output_type": "display_data"
    }
   ],
   "source": [
    "N = 10**6 \n",
    "\n",
    "x = p_max(N)\n",
    "\n",
    "plt.hist(x,100,density=True)\n",
    "plt.xlabel('valores aleatorios')\n",
    "plt.ylabel('probabilidad')\n",
    "plt.title('histograma función de punto maximo')\n",
    "print(np.mean(x))\n",
    "plt.show()"
   ]
  },
  {
   "cell_type": "markdown",
   "metadata": {},
   "source": [
    "> 2. Generación variable aleatoria Discreta\n",
    "> La distribución binomial modela el número de éxitos de n ensayos independientes donde hay una probabilidad p de éxito en cada ensayo.\n",
    "> Generar una variable aletoria binomial con parámetros $n=10$ y $p=0.7$. Recordar que $$X\\sim binomial(n,p) \\longrightarrow p_i=P(X=i)=\\frac{n!}{i!(n-i)!}p^i(1-p)^{n-i},\\quad i=0,1,\\cdots,n$$\n",
    "> Por propiedades de la operación factorial la anterior $p_i$ se puede escribir como:\n",
    "> $$p_{i+1}=\\frac{n-i}{i+1}\\frac{p}{1-p} p_i $$"
   ]
  },
  {
   "cell_type": "code",
   "execution_count": 4,
   "metadata": {},
   "outputs": [],
   "source": [
    "def Gen_distr_discreta(p_acum: 'P.Acumulada de la distribución a generar',\n",
    "                       indices: 'valores reales a generar aleatoriamente',\n",
    "                       N: 'cantidad de números aleatorios a generar'):\n",
    "    \n",
    "    U =np.random.rand(N)\n",
    "    # Diccionario de valores aleatorios\n",
    "    rand2reales = {i: idx for i, idx in enumerate(indices)}\n",
    "    # Series de los valores aletorios\n",
    "    y =pd.Series([sum([1 for p in p_acum if p<ui]) for ui in U]).map(rand2reales)\n",
    "    return y"
   ]
  },
  {
   "cell_type": "code",
   "execution_count": 5,
   "metadata": {},
   "outputs": [],
   "source": [
    "def p_acum_binom(n,p):\n",
    "    Pr = np.zeros(n)\n",
    "    Pr[0] = (1-p)**n\n",
    "    def pr(i):\n",
    "        nonlocal Pr\n",
    "        c  = p/(1-p)\n",
    "        Pr[i+1]=(c*(n-i)/(i+1))*Pr[i]\n",
    "        \n",
    "    # Lleno el vector Pr usando compresión de listas\n",
    "    [pr(i) for i in range(n-1)]\n",
    "    return np.cumsum(Pr)"
   ]
  },
  {
   "cell_type": "code",
   "execution_count": 6,
   "metadata": {},
   "outputs": [],
   "source": [
    "def plot_histogram_discrete(distribucion:'señal de varibles aleatorias de un distribución DISCRETA dada',\n",
    "                            label:'label del legend a aparecer en el gráfica',\n",
    "                            densidad:'por defecto regresa el histograma en densidad'=True):\n",
    "    # len(set(distribucion)) cuenta la cantidad de elementos distintos de la variable 'distribucion'\n",
    "    plt.figure(figsize=[10,4])\n",
    "    y, x = np.histogram(distribucion, bins=len(set(distribucion)), density=densidad) \n",
    "    plt.bar(x[1:], y, label=label)\n",
    "    plt.legend()\n",
    "    plt.show()"
   ]
  },
  {
   "cell_type": "code",
   "execution_count": 7,
   "metadata": {},
   "outputs": [
    {
     "data": {
      "image/png": "[encoded data removed]",
      "text/plain": [
       "<Figure size 720x288 with 1 Axes>"
      ]
     },
     "metadata": {
      "needs_background": "light"
     },
     "output_type": "display_data"
    }
   ],
   "source": [
    "n = 10\n",
    "p = 0.7\n",
    "N = 10**4\n",
    "\n",
    "p_acum = p_acum_binom(n,p)\n",
    "\n",
    "# Usando el método de la transformada inversa\n",
    "d_binom = Gen_distr_discreta(p_acum, np.arange(0, n+1), N)\n",
    "\n",
    "plot_histogram_discrete(d_binom, 'Variable aleatoria discreta con distribucion binomial', True)"
   ]
  }
 ],
 "metadata": {
  "kernelspec": {
   "display_name": "Python 3",
   "language": "python",
   "name": "python3"
  },
  "language_info": {
   "codemirror_mode": {
    "name": "ipython",
    "version": 3
   },
   "file_extension": ".py",
   "mimetype": "text/x-python",
   "name": "python",
   "nbconvert_exporter": "python",
   "pygments_lexer": "ipython3",
   "version": "3.8.5"
  }
 },
 "nbformat": 4,
 "nbformat_minor": 4
}
